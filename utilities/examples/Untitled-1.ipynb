{
 "cells": [
  {
   "cell_type": "code",
   "execution_count": 15,
   "metadata": {},
   "outputs": [
    {
     "name": "stdout",
     "output_type": "stream",
     "text": [
      "cols: ['Metric_1', 'Metric_2', 'Metric_3', 'Metric_4', 'Metric_5', 'Metric_6', 'Metric_7', 'Metric_8']\n",
      "rows: ['Data 1', 'Data 2', 'Data 3', 'Data 4']\n",
      "data['Metric_1'] = [55, 26, 63, 66]\n",
      "data['Metric_2'] = [50, 28, 72, 95]\n",
      "data['Metric_3'] = [95, 27, 75, 62]\n",
      "data['Metric_4'] = [37, 26, 18, 91]\n",
      "data['Metric_5'] = [44, 58, 62, 67]\n",
      "data['Metric_6'] = [43, 49, 87, 75]\n",
      "data['Metric_7'] = [23, 10, 98, 42]\n",
      "data['Metric_8'] = [70, 47, 21, 39]\n",
      "data:\n",
      "Metric_1: [55, 26, 63, 66]\n",
      "Metric_2: [50, 28, 72, 95]\n",
      "Metric_3: [95, 27, 75, 62]\n",
      "Metric_4: [37, 26, 18, 91]\n",
      "Metric_5: [44, 58, 62, 67]\n",
      "Metric_6: [43, 49, 87, 75]\n",
      "Metric_7: [23, 10, 98, 42]\n",
      "Metric_8: [70, 47, 21, 39]\n",
      "\n",
      "DataFrame:\n",
      "        Metric_1  Metric_2  Metric_3  Metric_4  Metric_5  Metric_6  Metric_7  \\\n",
      "Data 1        55        50        95        37        44        43        23   \n",
      "Data 2        26        28        27        26        58        49        10   \n",
      "Data 3        63        72        75        18        62        87        98   \n",
      "Data 4        66        95        62        91        67        75        42   \n",
      "\n",
      "        Metric_8  \n",
      "Data 1        70  \n",
      "Data 2        47  \n",
      "Data 3        21  \n",
      "Data 4        39  \n"
     ]
    }
   ],
   "source": [
    "import numpy as np\n",
    "import pandas as pd\n",
    "\n",
    "# Some sample data to plot.\n",
    "cols = ['Metric_' + str(x) for x in range(1, 9)]\n",
    "print(f'cols: {cols}')\n",
    "\n",
    "rows = ['Data 1', 'Data 2', 'Data 3', 'Data 4']\n",
    "print(f'rows: {rows}')\n",
    "\n",
    "data = {}\n",
    "for col in cols:\n",
    "    data[col] = [np.random.randint(10, 100) for row in rows]\n",
    "    print(f\"data['{col}'] = {data[col]}\")\n",
    "\n",
    "df = pd.DataFrame(data, index=rows)\n",
    "\n",
    "print('\\nDataFrame:')\n",
    "print(df)"
   ]
  },
  {
   "cell_type": "code",
   "execution_count": null,
   "metadata": {},
   "outputs": [],
   "source": []
  }
 ],
 "metadata": {
  "interpreter": {
   "hash": "e6c70388f1b84876e6f3105ac98ef15d4b7d1e2b6314ab62781b7fdf46969e65"
  },
  "kernelspec": {
   "display_name": "Python 3.9.7 64-bit ('clearwater': conda)",
   "language": "python",
   "name": "python3"
  },
  "language_info": {
   "codemirror_mode": {
    "name": "ipython",
    "version": 3
   },
   "file_extension": ".py",
   "mimetype": "text/x-python",
   "name": "python",
   "nbconvert_exporter": "python",
   "pygments_lexer": "ipython3",
   "version": "3.9.7"
  },
  "orig_nbformat": 4
 },
 "nbformat": 4,
 "nbformat_minor": 2
}
