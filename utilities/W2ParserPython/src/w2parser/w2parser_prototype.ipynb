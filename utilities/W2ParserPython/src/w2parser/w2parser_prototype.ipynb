{
 "cells": [
  {
   "cell_type": "markdown",
   "metadata": {},
   "source": [
    "# CE-QUAL-W2 Parser"
   ]
  },
  {
   "cell_type": "code",
   "execution_count": 1,
   "metadata": {},
   "outputs": [],
   "source": [
    "import pandas as pd\n",
    "import numpy as np\n",
    "from w2_control_file import W2ControlFile\n",
    "import w2_functions as w2"
   ]
  },
  {
   "cell_type": "markdown",
   "metadata": {},
   "source": [
    "## Load the CE-QUAL-W2 control file"
   ]
  },
  {
   "cell_type": "code",
   "execution_count": 2,
   "metadata": {},
   "outputs": [],
   "source": [
    "infile = 'w2_con.npt'\n",
    "w2con = W2ControlFile(infile)\n",
    "# w2con.save()"
   ]
  },
  {
   "cell_type": "markdown",
   "metadata": {},
   "source": [
    "## Read the card names"
   ]
  },
  {
   "cell_type": "code",
   "execution_count": 3,
   "metadata": {},
   "outputs": [
    {
     "name": "stdout",
     "output_type": "stream",
     "text": [
      "['GRID', 'IN/OUTFL', 'CONSTITU', 'MISCELL', 'TIME CON', 'DLT CON', 'DLT DATE', 'DLT MAX', 'DLT FRN', 'DLT LIMIT', 'BRANCH G', 'LOCATION', 'INIT CND', 'CALCULAT', 'DEAD SEA', 'INTERPOL', 'HEAT EXCH', 'ICE COVER', 'TRANSPORT', 'HYD COEF', 'EDDY VISC', 'N STRUC', 'STR INT', 'STR TOP', 'STR BOT', 'STR SINK', 'STR ELEV', 'STR WIDTH', 'PIPES', 'PIPE UP', 'PIPE DOWN', 'SPILLWAYS', 'SPILL UP', 'SPILL DOWN', 'SPILL GAS', 'GATES', 'GATE WEIR', 'GATE UP', 'GATE DOWN', 'GATE GAS', 'PUMPS 1', 'PUMPS 2', 'WEIR SEG', 'WEIR TOP', 'WEIR BOT', 'WD INT', 'WD SEG', 'WD ELEV', 'WD TOP', 'WD BOT', 'TRIB PLA', 'TRIB INT', 'TRIB SEG', 'TRIB TOP', 'TRIB BOT', 'DST TRIB', 'HYD PRINT', 'SNP PRINT', 'SNP DATE', 'SNP FREQ', 'SNP SEG', 'SCR PRINT', 'SCR DATE', 'SCR FREQ', 'PRF PLOT', 'PRF DATE', 'PRF FREQ', 'PRF SEG', 'SPR PLOT', 'SPR DATE', 'SPR FREQ', 'SPR SEG', 'VPL PLOT', 'VPL DATE', 'VPL FREQ', 'CPL PLOT', 'CPL DATE', 'CPL FREQ', 'FLUXES', 'FLX DATE', 'FLX FREQ', 'TSR PLOT', 'TSR DATE', 'TSR FREQ', 'TSR SEG', 'TSR LAYE', 'WITH OUT', 'WITH DATE', 'WITH FREQ', 'WITH SEG', 'RESTART', 'RSO DATE', 'RSO FREQ', 'CST COMP', 'CST ACTIVE', 'CST DERI', 'CST FLUX', 'CST ICON', 'CST PRIN', 'CIN CON', 'CTR CON', 'CDT CON', 'CPR CON', 'EX COEF', 'ALG EX', 'ZOO EX', 'MACRO EX', 'GENERIC', 'S SOLIDS', 'ALGAL RATE', 'ALGAL TEMP', 'ALG STOI', 'EPIPHYTE', 'EPI PRIN', 'EPI INIT', 'EPI RATE', 'EPI HALF', 'EPI TEMP', 'EPI STOI', 'ZOOP RATE', 'ZOOP ALGP', 'ZOOP ZOOP', 'ZOOP TEMP', 'ZOOP STOI', 'MACROPHY', 'MAC PRIN', 'MAC INI', 'MAC RATE', 'MAC SED', 'MAC DIST', 'MAC DRAG', 'MAC TEMP', 'MAC STOICH', 'DOM', 'POM', 'OM STOIC', 'OM RATE', 'CBOD', 'CBOD STOIC', 'PHOSPHOR', 'AMMONIUM', 'NH4 RATE', 'NITRATE', 'NO3 RATE', 'SILICA', 'IRON', 'SED CO2', 'STOICH 1', 'STOICH 2', 'STOICH 3', 'STOICH 4', 'STOICH 5', 'O2 LIMIT', 'SEDIMENT', 'SOD RATE', 'S DEMAND', 'REAERATION', 'RSI FILE', 'QWD FILE', 'QGT FILE', 'WSC FILE', 'SHD FILE', 'BTH FILE', 'MET FILE', 'EXT FILE', 'VPR FILE', 'LPR FILE', 'QIN FILE', 'TIN FILE', 'CIN FILE', 'QOT FILE', 'QTR FILE', 'TTR FILE', 'CTR FILE', 'QDT FILE', 'TDT FILE', 'CDT FILE', 'PRE FILE', 'TPR FILE', 'CPR FILE', 'EUH FILE', 'TUH FILE', 'CUH FILE', 'EDH FILE', 'TDH FILE', 'CDH FILE', 'SNP FILE', 'PRF FILE', 'VPL FILE', 'CPL FILE', 'SPR FILE', 'FLX FILE', 'TSR FILE', 'WDO FILE']\n"
     ]
    }
   ],
   "source": [
    "card_names = []\n",
    "\n",
    "with open('w2_card_names.txt', 'r') as f:\n",
    "\tfor line in f.readlines():\n",
    "\t\tcard_names.append(line.strip())\n",
    "\n",
    "print(card_names)"
   ]
  },
  {
   "cell_type": "code",
   "execution_count": 4,
   "metadata": {},
   "outputs": [],
   "source": [
    "card_locations = pd.DataFrame(np.zeros(len(card_names), dtype=int), index=card_names, columns=['line_start'])\n",
    "\n",
    "for card_name in card_names:\n",
    "\tfor i, line in enumerate(w2con.lines):\n",
    "\t\tif line.upper().startswith(card_name):\n",
    "\t\t\tcard_locations.loc[card_name, 'line_start'] = i\n",
    "\n",
    "# pd.set_option('display.max_rows', None)"
   ]
  },
  {
   "cell_type": "markdown",
   "metadata": {},
   "source": [
    "## Compute the number of lines between cards"
   ]
  },
  {
   "cell_type": "code",
   "execution_count": 5,
   "metadata": {},
   "outputs": [],
   "source": [
    "diffs = card_locations.diff(periods=-1) * -1\n",
    "diffs.iloc[-1,0] = 3 # The diffs fall one record short. The last several records are always three lines.\n",
    "card_locations['num_lines'] = diffs\n",
    "convert_dict = {'num_lines': int}\n",
    "card_locations = card_locations.astype(convert_dict)"
   ]
  },
  {
   "cell_type": "markdown",
   "metadata": {},
   "source": [
    "## Read all the cards into data frames"
   ]
  },
  {
   "cell_type": "code",
   "execution_count": 17,
   "metadata": {},
   "outputs": [],
   "source": [
    "widths = 10*[8]\n",
    "nlines = len(w2con.lines)\n",
    "\n",
    "cards = []\n",
    "for card_name in card_names:\n",
    "\trecord_line = card_locations.loc[card_name, 'line_start'] + 1 # account for get_record using a start index of 1 for the lines instead of zero.\n",
    "\trecord_nlines = card_locations.loc[card_name, 'num_lines'] - 1\n",
    "\tdata = w2.get_record(w2con.w2_control_filepath, widths, nlines, record_line, record_nlines)\n",
    "\tcards.append(data)"
   ]
  },
  {
   "cell_type": "markdown",
   "metadata": {},
   "source": [
    "## Write the cards to Excel"
   ]
  },
  {
   "cell_type": "code",
   "execution_count": 102,
   "metadata": {},
   "outputs": [],
   "source": [
    "def update_format(curr_frmt, new_prprty, wrkbk):\n",
    "    \"\"\"\n",
    "    Update a cell's existing format with new properties\n",
    "    \"\"\"\n",
    "    new_frmt = curr_frmt.__dict__.copy()\n",
    "\n",
    "    for k, v in new_prprty.items():\n",
    "        new_frmt[k] = v\n",
    "    new_frmt = { k: v for k, v in new_frmt.items() if (v != 0) and (v is not None) and (v != {}) and (k != 'escapes') }\n",
    "\n",
    "    print(new_frmt)\n",
    "\n",
    "    return wrkbk.add_format(new_frmt)\n",
    "\n",
    "# Put multiple data frames in an Excel sheet\n",
    "def multiple_dfs(df_list, sheets, file_name, spaces):\n",
    "    writer = pd.ExcelWriter(file_name, engine='xlsxwriter')   \n",
    "\n",
    "    row = 0\n",
    "    for dataframe in df_list:\n",
    "        dataframe.to_excel(writer, sheet_name=sheets, startrow=row, startcol=0)   \n",
    "        row = row + len(dataframe.index) + spaces + 1\n",
    "\n",
    "    # Change the default formatting to remove the borders\n",
    "    workbook = writer.book\n",
    "    worksheet = writer.sheets['w2_con']\n",
    "    \n",
    "    # Mimic the default pandas header format for use later\n",
    "    hdr_fmt = workbook.add_format({\n",
    "        'bold': False,\n",
    "        'border': 0,\n",
    "        'text_wrap': True,\n",
    "        'align': 'center'\n",
    "    })\n",
    "\n",
    "    new_fmt = update_format(hdr_fmt, {\n",
    "        'bold': False,\n",
    "        'border': 0,\n",
    "        'border_color': 'black', # Setting the border color is the only option that turned the borders off (when border is set to 0).\n",
    "        'align': 'left',\n",
    "        'text_h_align': 1, # left\n",
    "        'locked': False\n",
    "        }, workbook)\n",
    "\n",
    "    for i in range(15):\n",
    "        for j in range(2000):\n",
    "            worksheet.conditional_format(j, i, j, i, {\n",
    "                'type': 'formula',\n",
    "                'criteria': 'True',\n",
    "                'format': new_fmt\n",
    "            })\n",
    "\n",
    "    writer.save()"
   ]
  },
  {
   "cell_type": "code",
   "execution_count": 103,
   "metadata": {},
   "outputs": [
    {
     "name": "stdout",
     "output_type": "stream",
     "text": [
      "{'num_format': 'General', 'font_name': 'Calibri', 'font_size': 11, 'font_family': 2, 'font_scheme': 'minor', 'text_h_align': 1, 'text_wrap': True, 'border_color': 'black', 'align': 'left'}\n"
     ]
    }
   ],
   "source": [
    "multiple_dfs(cards, 'w2_con', 'cards.xlsx', 1)\t"
   ]
  },
  {
   "cell_type": "code",
   "execution_count": null,
   "metadata": {},
   "outputs": [],
   "source": []
  }
 ],
 "metadata": {
  "interpreter": {
   "hash": "e6c70388f1b84876e6f3105ac98ef15d4b7d1e2b6314ab62781b7fdf46969e65"
  },
  "kernelspec": {
   "display_name": "Python 3.9.7 64-bit ('clearwater': conda)",
   "language": "python",
   "name": "python3"
  },
  "language_info": {
   "codemirror_mode": {
    "name": "ipython",
    "version": 3
   },
   "file_extension": ".py",
   "mimetype": "text/x-python",
   "name": "python",
   "nbconvert_exporter": "python",
   "pygments_lexer": "ipython3",
   "version": "3.9.7"
  },
  "orig_nbformat": 4
 },
 "nbformat": 4,
 "nbformat_minor": 2
}
