{
 "cells": [
  {
   "cell_type": "markdown",
   "metadata": {},
   "source": [
    "## Code example from:\n",
    "https://stackoverflow.com/questions/43367805/pandas-read-excel-multiple-tables-on-the-same-sheet\n",
    "\n",
    "```\n",
    "I wrote the following code to identify the multiple tables automatically, in case you have many files you need to process and don't want to look in each one to get the right row numbers. The code also looks for non-empty rows above each table and reads those as table metadata.\n",
    "```"
   ]
  },
  {
   "cell_type": "code",
   "execution_count": 1,
   "metadata": {},
   "outputs": [],
   "source": [
    "import pandas as pd\n",
    "import numpy as np\n",
    "\n",
    "def parse_excel_sheet(file, sheet_name=0, threshold=5):\n",
    "    '''parses multiple tables from an excel sheet into multiple data frame objects. Returns [dfs, df_mds], where dfs is a list of data frames and df_mds their potential associated metadata'''\n",
    "    xl = pd.ExcelFile(file)\n",
    "    entire_sheet = xl.parse(sheet_name=sheet_name)\n",
    "\n",
    "    # count the number of non-Nan cells in each row and then the change in that number between adjacent rows\n",
    "    n_values = np.logical_not(entire_sheet.isnull()).sum(axis=1)\n",
    "    n_values_deltas = n_values[1:] - n_values[:-1].values\n",
    "\n",
    "    # define the beginnings and ends of tables using delta in n_values\n",
    "    table_beginnings = n_values_deltas > threshold\n",
    "    table_beginnings = table_beginnings[table_beginnings].index\n",
    "    table_endings = n_values_deltas < -threshold\n",
    "    table_endings = table_endings[table_endings].index\n",
    "    if len(table_beginnings) < len(table_endings) or len(table_beginnings) > len(table_endings)+1:\n",
    "        raise BaseException('Could not detect equal number of beginnings and ends')\n",
    "\n",
    "    # look for metadata before the beginnings of tables\n",
    "    md_beginnings = []\n",
    "    for start in table_beginnings:\n",
    "        md_start = n_values.iloc[:start][n_values==0].index[-1] + 1\n",
    "        md_beginnings.append(md_start)\n",
    "\n",
    "    # make data frames\n",
    "    dfs = []\n",
    "    df_mds = []\n",
    "    for ind in range(len(table_beginnings)):\n",
    "        start = table_beginnings[ind]+1\n",
    "        if ind < len(table_endings):\n",
    "            stop = table_endings[ind]\n",
    "        else:\n",
    "            stop = entire_sheet.shape[0]\n",
    "        df = xl.parse(sheet_name=sheet_name, skiprows=start, nrows=stop-start)\n",
    "        dfs.append(df)\n",
    "\n",
    "        md = xl.parse(sheet_name=sheet_name, skiprows=md_beginnings[ind], nrows=start-md_beginnings[ind]-1).dropna(axis=1)\n",
    "        df_mds.append(md)\n",
    "    return dfs, df_mds"
   ]
  },
  {
   "cell_type": "code",
   "execution_count": 50,
   "metadata": {},
   "outputs": [],
   "source": [
    "dfs, df_mds = parse_excel_sheet('w2_con.xlsx', threshold=2)\n",
    "for df in dfs:\n",
    "\tfor i, col in enumerate(df.columns):\n",
    "\t\tif 'Unnamed' in col:\n",
    "\t\t\tdf = df.drop(columns=col)\n",
    "\t\tif '.' in col:\n",
    "\t\t\tdf = df.rename(columns={col: col.split('.')[0]})\n",
    "\t\t\t\n",
    "\t# Write card to CSV\n",
    "\tdf.to_csv('existing.csv', mode='a', index=False, header=True)\n",
    "\t# df2 = pd.DataFrame({'A': [np.nan], 'B': [np.nan]})\n",
    "\t# df2.to_csv('existing.csv', mode='a', index=False, header=False)\n",
    "\n",
    "\t# display(df)"
   ]
  },
  {
   "cell_type": "code",
   "execution_count": null,
   "metadata": {},
   "outputs": [],
   "source": []
  }
 ],
 "metadata": {
  "interpreter": {
   "hash": "e6c70388f1b84876e6f3105ac98ef15d4b7d1e2b6314ab62781b7fdf46969e65"
  },
  "kernelspec": {
   "display_name": "Python 3.9.7 64-bit ('clearwater': conda)",
   "language": "python",
   "name": "python3"
  },
  "language_info": {
   "codemirror_mode": {
    "name": "ipython",
    "version": 3
   },
   "file_extension": ".py",
   "mimetype": "text/x-python",
   "name": "python",
   "nbconvert_exporter": "python",
   "pygments_lexer": "ipython3",
   "version": "3.9.7"
  },
  "orig_nbformat": 4
 },
 "nbformat": 4,
 "nbformat_minor": 2
}
